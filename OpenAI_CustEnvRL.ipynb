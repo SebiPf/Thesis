{
 "cells": [
  {
   "cell_type": "markdown",
   "metadata": {},
   "source": [
    "# 0. Install Dependencies"
   ]
  },
  {
   "cell_type": "code",
   "execution_count": null,
   "metadata": {
    "collapsed": true
   },
   "outputs": [],
   "source": [
    "!pip install tensorflow==2.3.0\n",
    "!pip install gym\n",
    "!pip install keras\n",
    "!pip install keras-rl2"
   ]
  },
  {
   "cell_type": "markdown",
   "metadata": {},
   "source": [
    "# 1. Test Random Environment with OpenAI Gym"
   ]
  },
  {
   "cell_type": "code",
   "execution_count": 1,
   "metadata": {},
   "outputs": [],
   "source": [
    "from gym import Env\n",
    "from gym.spaces import Discrete, Box\n",
    "import numpy as np\n",
    "import random"
   ]
  },
  {
   "cell_type": "code",
   "execution_count": 2,
   "metadata": {},
   "outputs": [],
   "source": [
    "class ShowerEnv(Env):\n",
    "    def __init__(self):\n",
    "        # Actions we can take, down, stay, up\n",
    "        self.action_space = Discrete(3)\n",
    "        # Temperature array\n",
    "        self.observation_space = Box(low=np.array([0]), high=np.array([100]))\n",
    "        # Set start temp\n",
    "        self.state = 38 + random.randint(-3,3)\n",
    "        # Set shower length\n",
    "        self.shower_length = 60\n",
    "        \n",
    "    def step(self, action):\n",
    "        # Apply action\n",
    "        # 0 -1 = -1 temperature\n",
    "        # 1 -1 = 0 \n",
    "        # 2 -1 = 1 temperature \n",
    "        self.state += action -1 \n",
    "        # Reduce shower length by 1 second\n",
    "        self.shower_length -= 1 \n",
    "        \n",
    "        # Calculate reward\n",
    "        if self.state >=37 and self.state <=39: \n",
    "            reward =1 \n",
    "        else: \n",
    "            reward = -1 \n",
    "        \n",
    "        # Check if shower is done\n",
    "        if self.shower_length <= 0: \n",
    "            done = True\n",
    "        else:\n",
    "            done = False\n",
    "        \n",
    "        # Apply temperature noise\n",
    "        #self.state += random.randint(-1,1)\n",
    "        # Set placeholder for info\n",
    "        info = {}\n",
    "        \n",
    "        # Return step information\n",
    "        return self.state, reward, done, info\n",
    "\n",
    "    def render(self):\n",
    "        # Implement viz\n",
    "        pass\n",
    "    \n",
    "    def reset(self):\n",
    "        # Reset shower temperature\n",
    "        self.state = 38 + random.randint(-3,3)\n",
    "        # Reset shower time\n",
    "        self.shower_length = 60 \n",
    "        return self.state\n",
    "    "
   ]
  },
  {
   "cell_type": "code",
   "execution_count": 3,
   "metadata": {},
   "outputs": [
    {
     "name": "stderr",
     "output_type": "stream",
     "text": [
      "c:\\Development\\Theses\\Thesis\\.venv\\lib\\site-packages\\gym\\spaces\\box.py:127: UserWarning: \u001b[33mWARN: Box bound precision lowered by casting to float32\u001b[0m\n",
      "  logger.warn(f\"Box bound precision lowered by casting to {self.dtype}\")\n"
     ]
    }
   ],
   "source": [
    "env = ShowerEnv()"
   ]
  },
  {
   "cell_type": "code",
   "execution_count": 4,
   "metadata": {},
   "outputs": [
    {
     "data": {
      "text/plain": [
       "array([75.77882], dtype=float32)"
      ]
     },
     "execution_count": 4,
     "metadata": {},
     "output_type": "execute_result"
    }
   ],
   "source": [
    "env.observation_space.sample()"
   ]
  },
  {
   "cell_type": "code",
   "execution_count": 5,
   "metadata": {},
   "outputs": [
    {
     "name": "stdout",
     "output_type": "stream",
     "text": [
      "Episode:1 Score:-54\n",
      "Episode:2 Score:-60\n",
      "Episode:3 Score:-54\n",
      "Episode:4 Score:-52\n",
      "Episode:5 Score:-36\n",
      "Episode:6 Score:-26\n",
      "Episode:7 Score:16\n",
      "Episode:8 Score:14\n",
      "Episode:9 Score:-22\n",
      "Episode:10 Score:0\n"
     ]
    }
   ],
   "source": [
    "episodes = 10\n",
    "for episode in range(1, episodes+1):\n",
    "    state = env.reset()\n",
    "    done = False\n",
    "    score = 0 \n",
    "    \n",
    "    while not done:\n",
    "        #env.render()\n",
    "        action = env.action_space.sample()\n",
    "        n_state, reward, done, info = env.step(action)\n",
    "        score+=reward\n",
    "    print('Episode:{} Score:{}'.format(episode, score))"
   ]
  },
  {
   "cell_type": "markdown",
   "metadata": {},
   "source": [
    "# 2. Create a Deep Learning Model with Keras"
   ]
  },
  {
   "cell_type": "code",
   "execution_count": 7,
   "metadata": {},
   "outputs": [],
   "source": [
    "import numpy as np\n",
    "\n",
    "\n",
    "from tensorflow import keras\n",
    "from keras import layers\n",
    "from keras.optimizers import Adam\n",
    "from keras import Sequential\n",
    "from rl.agents import DQNAgent\n",
    "from rl.memory import SequentialMemory\n",
    "from rl.policy import BoltzmannQPolicy"
   ]
  },
  {
   "cell_type": "code",
   "execution_count": 8,
   "metadata": {},
   "outputs": [],
   "source": [
    "states = env.observation_space.shape\n",
    "actions = env.action_space.n"
   ]
  },
  {
   "cell_type": "code",
   "execution_count": 9,
   "metadata": {},
   "outputs": [
    {
     "data": {
      "text/plain": [
       "3"
      ]
     },
     "execution_count": 9,
     "metadata": {},
     "output_type": "execute_result"
    }
   ],
   "source": [
    "actions"
   ]
  },
  {
   "cell_type": "code",
   "execution_count": 10,
   "metadata": {},
   "outputs": [],
   "source": [
    "def build_model(states, actions):\n",
    "    model = Sequential()    \n",
    "    model.add(layers.Dense(24, activation='relu', input_shape=states))\n",
    "    model.add(layers.Dense(24, activation='relu'))\n",
    "    model.add(layers.Dense(actions, activation='linear'))\n",
    "    return model"
   ]
  },
  {
   "cell_type": "code",
   "execution_count": null,
   "metadata": {},
   "outputs": [],
   "source": [
    "del model "
   ]
  },
  {
   "cell_type": "code",
   "execution_count": 11,
   "metadata": {},
   "outputs": [],
   "source": [
    "model = build_model(states, actions)"
   ]
  },
  {
   "cell_type": "code",
   "execution_count": 12,
   "metadata": {},
   "outputs": [
    {
     "name": "stdout",
     "output_type": "stream",
     "text": [
      "Model: \"sequential\"\n",
      "_________________________________________________________________\n",
      " Layer (type)                Output Shape              Param #   \n",
      "=================================================================\n",
      " dense (Dense)               (None, 24)                48        \n",
      "                                                                 \n",
      " dense_1 (Dense)             (None, 24)                600       \n",
      "                                                                 \n",
      " dense_2 (Dense)             (None, 3)                 75        \n",
      "                                                                 \n",
      "=================================================================\n",
      "Total params: 723\n",
      "Trainable params: 723\n",
      "Non-trainable params: 0\n",
      "_________________________________________________________________\n"
     ]
    }
   ],
   "source": [
    "model.summary()"
   ]
  },
  {
   "cell_type": "markdown",
   "metadata": {},
   "source": [
    "# 3. Build Agent with Keras-RL"
   ]
  },
  {
   "cell_type": "code",
   "execution_count": 13,
   "metadata": {},
   "outputs": [],
   "source": [
    "from rl.agents import DQNAgent\n",
    "from rl.policy import BoltzmannQPolicy\n",
    "from rl.memory import SequentialMemory"
   ]
  },
  {
   "cell_type": "code",
   "execution_count": 14,
   "metadata": {},
   "outputs": [],
   "source": [
    "def build_agent(model, actions):\n",
    "    policy = BoltzmannQPolicy()\n",
    "    memory = SequentialMemory(limit=50000, window_length=1)\n",
    "    dqn = DQNAgent(model=model, memory=memory, policy=policy, \n",
    "                  nb_actions=actions, nb_steps_warmup=10, target_model_update=1e-2)\n",
    "    return dqn"
   ]
  },
  {
   "cell_type": "code",
   "execution_count": 15,
   "metadata": {},
   "outputs": [
    {
     "name": "stdout",
     "output_type": "stream",
     "text": [
      "WARNING:tensorflow:From c:\\Development\\Theses\\Thesis\\.venv\\lib\\site-packages\\tensorflow\\python\\autograph\\pyct\\static_analysis\\liveness.py:83: Analyzer.lamba_check (from tensorflow.python.autograph.pyct.static_analysis.liveness) is deprecated and will be removed after 2023-09-23.\n",
      "Instructions for updating:\n",
      "Lambda fuctions will be no more assumed to be used in the statement where they are used, or at least in the same block. https://github.com/tensorflow/tensorflow/issues/56089\n",
      "Training for 50000 steps ...\n",
      "Interval 1 (0 steps performed)\n",
      "    1/10000 [..............................] - ETA: 9:02 - reward: 1.0000"
     ]
    },
    {
     "name": "stderr",
     "output_type": "stream",
     "text": [
      "c:\\Development\\Theses\\Thesis\\.venv\\lib\\site-packages\\keras\\engine\\training_v1.py:2357: UserWarning: `Model.state_updates` will be removed in a future version. This property should not be used in TensorFlow 2.0, as `updates` are applied automatically.\n",
      "  updates=self.state_updates,\n",
      "c:\\Development\\Theses\\Thesis\\.venv\\lib\\site-packages\\rl\\memory.py:37: UserWarning: Not enough entries to sample without replacement. Consider increasing your warm-up phase to avoid oversampling!\n",
      "  warnings.warn('Not enough entries to sample without replacement. Consider increasing your warm-up phase to avoid oversampling!')\n"
     ]
    },
    {
     "name": "stdout",
     "output_type": "stream",
     "text": [
      "10000/10000 [==============================] - 44s 4ms/step - reward: -0.4874\n",
      "166 episodes - episode_reward: -29.361 [-60.000, 34.000] - loss: 0.804 - mae: 4.909 - mean_q: -6.633\n",
      "\n",
      "Interval 2 (10000 steps performed)\n",
      "10000/10000 [==============================] - 44s 4ms/step - reward: -0.3850\n",
      "167 episodes - episode_reward: -22.958 [-60.000, 46.000] - loss: 1.426 - mae: 7.907 - mean_q: -11.143\n",
      "\n",
      "Interval 3 (20000 steps performed)\n",
      "10000/10000 [==============================] - 44s 4ms/step - reward: -0.2008\n",
      "167 episodes - episode_reward: -12.120 [-60.000, 38.000] - loss: 0.881 - mae: 5.376 - mean_q: -7.312\n",
      "\n",
      "Interval 4 (30000 steps performed)\n",
      "10000/10000 [==============================] - 45s 5ms/step - reward: 0.1594\n",
      "166 episodes - episode_reward: 9.542 [-60.000, 56.000] - loss: 0.474 - mae: 2.162 - mean_q: -2.092\n",
      "\n",
      "Interval 5 (40000 steps performed)\n",
      "10000/10000 [==============================] - 48s 5ms/step - reward: 0.5748\n",
      "done, took 225.240 seconds\n"
     ]
    },
    {
     "data": {
      "text/plain": [
       "<keras.callbacks.History at 0x20498812b90>"
      ]
     },
     "execution_count": 15,
     "metadata": {},
     "output_type": "execute_result"
    }
   ],
   "source": [
    "dqn = build_agent(model, actions)\n",
    "dqn.compile(Adam(learning_rate=1e-3), metrics=['mae'])\n",
    "dqn.fit(env, nb_steps=50000, visualize=False, verbose=1)"
   ]
  },
  {
   "cell_type": "code",
   "execution_count": 16,
   "metadata": {},
   "outputs": [
    {
     "name": "stdout",
     "output_type": "stream",
     "text": [
      "Testing for 100 episodes ...\n",
      "Episode 1: reward: 60.000, steps: 60\n",
      "Episode 2: reward: 60.000, steps: 60\n",
      "Episode 3: reward: 58.000, steps: 60\n",
      "Episode 4: reward: 60.000, steps: 60\n",
      "Episode 5: reward: 58.000, steps: 60\n",
      "Episode 6: reward: 58.000, steps: 60\n",
      "Episode 7: reward: 60.000, steps: 60\n",
      "Episode 8: reward: 60.000, steps: 60\n",
      "Episode 9: reward: 58.000, steps: 60\n",
      "Episode 10: reward: 60.000, steps: 60\n",
      "Episode 11: reward: 58.000, steps: 60\n",
      "Episode 12: reward: 60.000, steps: 60\n",
      "Episode 13: reward: 58.000, steps: 60\n",
      "Episode 14: reward: 60.000, steps: 60\n",
      "Episode 15: reward: 60.000, steps: 60\n",
      "Episode 16: reward: 60.000, steps: 60\n",
      "Episode 17: reward: 60.000, steps: 60\n",
      "Episode 18: reward: 60.000, steps: 60\n",
      "Episode 19: reward: 60.000, steps: 60\n",
      "Episode 20: reward: 60.000, steps: 60\n",
      "Episode 21: reward: 60.000, steps: 60\n",
      "Episode 22: reward: 60.000, steps: 60\n",
      "Episode 23: reward: 60.000, steps: 60\n",
      "Episode 24: reward: 60.000, steps: 60\n",
      "Episode 25: reward: 60.000, steps: 60\n",
      "Episode 26: reward: 58.000, steps: 60\n",
      "Episode 27: reward: 60.000, steps: 60\n",
      "Episode 28: reward: 58.000, steps: 60\n",
      "Episode 29: reward: 60.000, steps: 60\n",
      "Episode 30: reward: 58.000, steps: 60\n",
      "Episode 31: reward: 60.000, steps: 60\n",
      "Episode 32: reward: 60.000, steps: 60\n",
      "Episode 33: reward: 60.000, steps: 60\n",
      "Episode 34: reward: 60.000, steps: 60\n",
      "Episode 35: reward: 60.000, steps: 60\n",
      "Episode 36: reward: 58.000, steps: 60\n",
      "Episode 37: reward: 58.000, steps: 60\n",
      "Episode 38: reward: 60.000, steps: 60\n",
      "Episode 39: reward: 60.000, steps: 60\n",
      "Episode 40: reward: 60.000, steps: 60\n",
      "Episode 41: reward: 60.000, steps: 60\n",
      "Episode 42: reward: 60.000, steps: 60\n",
      "Episode 43: reward: 60.000, steps: 60\n",
      "Episode 44: reward: 60.000, steps: 60\n",
      "Episode 45: reward: 60.000, steps: 60\n",
      "Episode 46: reward: 60.000, steps: 60\n",
      "Episode 47: reward: 60.000, steps: 60\n",
      "Episode 48: reward: 60.000, steps: 60\n",
      "Episode 49: reward: 58.000, steps: 60\n",
      "Episode 50: reward: 60.000, steps: 60\n",
      "Episode 51: reward: 60.000, steps: 60\n",
      "Episode 52: reward: 60.000, steps: 60\n",
      "Episode 53: reward: 60.000, steps: 60\n",
      "Episode 54: reward: 60.000, steps: 60\n",
      "Episode 55: reward: 60.000, steps: 60\n",
      "Episode 56: reward: 60.000, steps: 60\n",
      "Episode 57: reward: 58.000, steps: 60\n",
      "Episode 58: reward: 60.000, steps: 60\n",
      "Episode 59: reward: 60.000, steps: 60\n",
      "Episode 60: reward: 58.000, steps: 60\n",
      "Episode 61: reward: 60.000, steps: 60\n",
      "Episode 62: reward: 60.000, steps: 60\n",
      "Episode 63: reward: 58.000, steps: 60\n",
      "Episode 64: reward: 60.000, steps: 60\n",
      "Episode 65: reward: 60.000, steps: 60\n",
      "Episode 66: reward: 60.000, steps: 60\n",
      "Episode 67: reward: 60.000, steps: 60\n",
      "Episode 68: reward: 60.000, steps: 60\n",
      "Episode 69: reward: 60.000, steps: 60\n",
      "Episode 70: reward: 60.000, steps: 60\n",
      "Episode 71: reward: 58.000, steps: 60\n",
      "Episode 72: reward: 58.000, steps: 60\n",
      "Episode 73: reward: 60.000, steps: 60\n",
      "Episode 74: reward: 58.000, steps: 60\n",
      "Episode 75: reward: 60.000, steps: 60\n",
      "Episode 76: reward: 60.000, steps: 60\n",
      "Episode 77: reward: 58.000, steps: 60\n",
      "Episode 78: reward: 60.000, steps: 60\n",
      "Episode 79: reward: 60.000, steps: 60\n",
      "Episode 80: reward: 60.000, steps: 60\n",
      "Episode 81: reward: 60.000, steps: 60\n",
      "Episode 82: reward: 60.000, steps: 60\n",
      "Episode 83: reward: 58.000, steps: 60\n",
      "Episode 84: reward: 60.000, steps: 60\n",
      "Episode 85: reward: 58.000, steps: 60\n",
      "Episode 86: reward: 60.000, steps: 60\n",
      "Episode 87: reward: 60.000, steps: 60\n",
      "Episode 88: reward: 60.000, steps: 60\n",
      "Episode 89: reward: 60.000, steps: 60\n",
      "Episode 90: reward: 60.000, steps: 60\n",
      "Episode 91: reward: 58.000, steps: 60\n",
      "Episode 92: reward: 58.000, steps: 60\n",
      "Episode 93: reward: 58.000, steps: 60\n",
      "Episode 94: reward: 60.000, steps: 60\n",
      "Episode 95: reward: 60.000, steps: 60\n",
      "Episode 96: reward: 60.000, steps: 60\n",
      "Episode 97: reward: 60.000, steps: 60\n",
      "Episode 98: reward: 58.000, steps: 60\n",
      "Episode 99: reward: 58.000, steps: 60\n",
      "Episode 100: reward: 58.000, steps: 60\n",
      "59.46\n"
     ]
    }
   ],
   "source": [
    "scores = dqn.test(env, nb_episodes=100, visualize=False)\n",
    "print(np.mean(scores.history['episode_reward']))"
   ]
  },
  {
   "cell_type": "code",
   "execution_count": 17,
   "metadata": {},
   "outputs": [
    {
     "name": "stdout",
     "output_type": "stream",
     "text": [
      "Testing for 15 episodes ...\n"
     ]
    },
    {
     "ename": "TypeError",
     "evalue": "ShowerEnv.render() got an unexpected keyword argument 'mode'",
     "output_type": "error",
     "traceback": [
      "\u001b[1;31m---------------------------------------------------------------------------\u001b[0m",
      "\u001b[1;31mTypeError\u001b[0m                                 Traceback (most recent call last)",
      "Cell \u001b[1;32mIn[17], line 1\u001b[0m\n\u001b[1;32m----> 1\u001b[0m _ \u001b[39m=\u001b[39m dqn\u001b[39m.\u001b[39;49mtest(env, nb_episodes\u001b[39m=\u001b[39;49m\u001b[39m15\u001b[39;49m, visualize\u001b[39m=\u001b[39;49m\u001b[39mTrue\u001b[39;49;00m)\n",
      "File \u001b[1;32mc:\\Development\\Theses\\Thesis\\.venv\\lib\\site-packages\\rl\\core.py:352\u001b[0m, in \u001b[0;36mAgent.test\u001b[1;34m(self, env, nb_episodes, action_repetition, callbacks, visualize, nb_max_episode_steps, nb_max_start_steps, start_step_policy, verbose)\u001b[0m\n\u001b[0;32m    350\u001b[0m \u001b[39mif\u001b[39;00m \u001b[39mself\u001b[39m\u001b[39m.\u001b[39mprocessor \u001b[39mis\u001b[39;00m \u001b[39mnot\u001b[39;00m \u001b[39mNone\u001b[39;00m:\n\u001b[0;32m    351\u001b[0m     observation, r, d, info \u001b[39m=\u001b[39m \u001b[39mself\u001b[39m\u001b[39m.\u001b[39mprocessor\u001b[39m.\u001b[39mprocess_step(observation, r, d, info)\n\u001b[1;32m--> 352\u001b[0m callbacks\u001b[39m.\u001b[39;49mon_action_end(action)\n\u001b[0;32m    353\u001b[0m reward \u001b[39m+\u001b[39m\u001b[39m=\u001b[39m r\n\u001b[0;32m    354\u001b[0m \u001b[39mfor\u001b[39;00m key, value \u001b[39min\u001b[39;00m info\u001b[39m.\u001b[39mitems():\n",
      "File \u001b[1;32mc:\\Development\\Theses\\Thesis\\.venv\\lib\\site-packages\\rl\\callbacks.py:98\u001b[0m, in \u001b[0;36mCallbackList.on_action_end\u001b[1;34m(self, action, logs)\u001b[0m\n\u001b[0;32m     96\u001b[0m \u001b[39mfor\u001b[39;00m callback \u001b[39min\u001b[39;00m \u001b[39mself\u001b[39m\u001b[39m.\u001b[39mcallbacks:\n\u001b[0;32m     97\u001b[0m     \u001b[39mif\u001b[39;00m callable(\u001b[39mgetattr\u001b[39m(callback, \u001b[39m'\u001b[39m\u001b[39mon_action_end\u001b[39m\u001b[39m'\u001b[39m, \u001b[39mNone\u001b[39;00m)):\n\u001b[1;32m---> 98\u001b[0m         callback\u001b[39m.\u001b[39;49mon_action_end(action, logs\u001b[39m=\u001b[39;49mlogs)\n",
      "File \u001b[1;32mc:\\Development\\Theses\\Thesis\\.venv\\lib\\site-packages\\rl\\callbacks.py:360\u001b[0m, in \u001b[0;36mVisualizer.on_action_end\u001b[1;34m(self, action, logs)\u001b[0m\n\u001b[0;32m    358\u001b[0m \u001b[39mdef\u001b[39;00m \u001b[39mon_action_end\u001b[39m(\u001b[39mself\u001b[39m, action, logs):\n\u001b[0;32m    359\u001b[0m     \u001b[39m\"\"\" Render environment at the end of each action \"\"\"\u001b[39;00m\n\u001b[1;32m--> 360\u001b[0m     \u001b[39mself\u001b[39;49m\u001b[39m.\u001b[39;49menv\u001b[39m.\u001b[39;49mrender(mode\u001b[39m=\u001b[39;49m\u001b[39m'\u001b[39;49m\u001b[39mhuman\u001b[39;49m\u001b[39m'\u001b[39;49m)\n",
      "\u001b[1;31mTypeError\u001b[0m: ShowerEnv.render() got an unexpected keyword argument 'mode'"
     ]
    }
   ],
   "source": [
    "_ = dqn.test(env, nb_episodes=15, visualize=True)"
   ]
  },
  {
   "cell_type": "markdown",
   "metadata": {},
   "source": [
    "# 4. Reloading Agent from Memory"
   ]
  },
  {
   "cell_type": "code",
   "execution_count": 18,
   "metadata": {},
   "outputs": [],
   "source": [
    "dqn.save_weights('dqn_weights.h5f', overwrite=True)"
   ]
  },
  {
   "cell_type": "code",
   "execution_count": null,
   "metadata": {},
   "outputs": [],
   "source": [
    "del model\n",
    "del dqn\n",
    "del env"
   ]
  },
  {
   "cell_type": "code",
   "execution_count": null,
   "metadata": {},
   "outputs": [],
   "source": [
    "env = gym.make('CartPole-v0')\n",
    "actions = env.action_space.n\n",
    "states = env.observation_space.shape[0]\n",
    "model = build_model(states, actions)\n",
    "dqn = build_agent(model, actions)\n",
    "dqn.compile(Adam(lr=1e-3), metrics=['mae'])"
   ]
  },
  {
   "cell_type": "code",
   "execution_count": null,
   "metadata": {},
   "outputs": [],
   "source": [
    "dqn.load_weights('dqn_weights.h5f')"
   ]
  },
  {
   "cell_type": "code",
   "execution_count": null,
   "metadata": {},
   "outputs": [],
   "source": [
    "_ = dqn.test(env, nb_episodes=5, visualize=True)"
   ]
  },
  {
   "cell_type": "code",
   "execution_count": null,
   "metadata": {},
   "outputs": [],
   "source": []
  }
 ],
 "metadata": {
  "kernelspec": {
   "display_name": "Python 3.10.2 ('.venv': venv)",
   "language": "python",
   "name": "python3"
  },
  "language_info": {
   "codemirror_mode": {
    "name": "ipython",
    "version": 3
   },
   "file_extension": ".py",
   "mimetype": "text/x-python",
   "name": "python",
   "nbconvert_exporter": "python",
   "pygments_lexer": "ipython3",
   "version": "3.10.2"
  },
  "vscode": {
   "interpreter": {
    "hash": "903da58cf30ebd1d6c25238449ec7b9b792b651be3cbe77229884cf5a080d95f"
   }
  }
 },
 "nbformat": 4,
 "nbformat_minor": 2
}

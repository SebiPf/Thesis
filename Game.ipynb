{
 "cells": [
  {
   "cell_type": "code",
   "execution_count": 1,
   "metadata": {},
   "outputs": [
    {
     "name": "stdout",
     "output_type": "stream",
     "text": [
      "pygame 2.1.2 (SDL 2.0.18, Python 3.10.10)\n",
      "Hello from the pygame community. https://www.pygame.org/contribute.html\n"
     ]
    }
   ],
   "source": [
    "from codecs import mbcs_decode\n",
    "from ctypes.wintypes import WORD\n",
    "from pickle import TUPLE\n",
    "from platform import python_branch\n",
    "import gym\n",
    "from gym import Env\n",
    "import numpy as np\n",
    "import pygame\n",
    "from gym import spaces\n",
    "from tensorflow import keras\n",
    "from keras import layers\n",
    "from keras.optimizers import Adam\n",
    "from keras import Sequential\n",
    "from keras import callbacks\n",
    "from keras.callbacks import History\n",
    "from rl.agents import DQNAgent\n",
    "from rl.memory import SequentialMemory\n",
    "from rl.policy import BoltzmannQPolicy\n",
    "import matplotlib.pyplot as plt\n",
    "import math\n"
   ]
  },
  {
   "cell_type": "code",
   "execution_count": 2,
   "metadata": {},
   "outputs": [],
   "source": [
    "class Game(Env):\n",
    "    metadata = {\"render_modes\": [\"human\", \"rgb_array\"], \"render_fps\": 3}\n",
    "\n",
    "    def __init__(self, render_mode=None, size=11):\n",
    "        self.size = size  # The size of the square grid\n",
    "        self.window_size = 512  # The size of the PyGame window\n",
    "        self.human = 'human'\n",
    "        self.rgb = 'rgb_array'\n",
    "        \n",
    "        self.observation_space = spaces.Box(np.array([0,0]), np.array([size-1,size-1]), shape=(2,),dtype=int)\n",
    "        print(self.observation_space)\n",
    "        \n",
    "        #Moveset of the Agent (Left, Right, Up, Down, Stay)\n",
    "        self.action_space = spaces.Discrete(4)\n",
    "        self._action_to_direction = {\n",
    "            0: np.array([1, 0],dtype=int),\n",
    "            1: np.array([0, 1],dtype=int),\n",
    "            2: np.array([-1, 0],dtype=int),\n",
    "            3: np.array([0, -1],dtype=int),\n",
    "        }\n",
    "        self.action_space_enemy = spaces.Discrete(2)\n",
    "        self._action_to_direction_enemy = {\n",
    "            0: np.array([0, 0],dtype=int),\n",
    "            1: np.array([0, 0],dtype=int),\n",
    "        }\n",
    "\n",
    "        assert render_mode is None or render_mode in self.metadata[\"render_modes\"]\n",
    "        self.render_mode = render_mode\n",
    "\n",
    "        \"\"\"\n",
    "        If human-rendering is used, `self.window` will be a reference\n",
    "        to the window that we draw to. `self.clock` will be a clock that is used\n",
    "        to ensure that the environment is rendered at the correct framerate in\n",
    "        human-mode. They will remain `None` until human-mode is used for the\n",
    "        first time.\n",
    "        \"\"\"\n",
    "        self.window = None\n",
    "        self.clock = None\n",
    "        \n",
    "        self._obstacle_location1 = np.array([2,2])\n",
    "        self._obstacle_location2 = np.array([2,3])\n",
    "        self._obstacle_location3 = np.array([2,4])\n",
    "        self._obstacle_location4 = np.array([3,2])\n",
    "        self._obstacle_location5 = np.array([4,2])\n",
    "        self._obstacle_location6 = np.array([6,8])\n",
    "        self._obstacle_location7 = np.array([7,8])\n",
    "        self._obstacle_location8 = np.array([8,6])\n",
    "        self._obstacle_location9 = np.array([8,7])\n",
    "        self._obstacle_location10 = np.array([8,8])\n",
    "\n",
    "        self.obstacles = np.array([self._obstacle_location1,\n",
    "                            self._obstacle_location2,\n",
    "                            self._obstacle_location3,\n",
    "                            self._obstacle_location4,\n",
    "                            self._obstacle_location5,\n",
    "                            self._obstacle_location6,\n",
    "                            self._obstacle_location7,\n",
    "                            self._obstacle_location8,\n",
    "                            self._obstacle_location9,\n",
    "                            self._obstacle_location10])\n",
    "\n",
    "\n",
    "    def _get_Agent(self):\n",
    "\n",
    "        target = int(math.dist([0,0],self._target_location))\n",
    "        agent = int(math.dist([0,0],self._agent_location))\n",
    "        dist = target-agent\n",
    "        targetenemy = int(math.dist([0,0],self._agent_location))\n",
    "        enemy = int(math.dist([0,0],self.enemy_location))\n",
    "        dist = int(math.dist(self._target_location,self._agent_location))\n",
    "        disttoenemy = int(math.dist(self.enemy_location,self._agent_location))\n",
    "        distbundle = np.array([dist,disttoenemy],dtype=int)\n",
    "        distbundle1 = np.array([agent,target],dtype=int)\n",
    "        distance = self._target_location - self._agent_location \n",
    "        return agentloc\n",
    "    def _get_Target(self):\n",
    "        return self._target_location\n",
    "\n",
    "\n",
    "\n",
    "    def reset(self, options=None):\n",
    "        # We need the following line to seed self.np_random\n",
    "        self.steps = 0\n",
    "        self.reward = 0\n",
    "        # Choose the agent's location uniformly at random\n",
    "        self._agent_location= np.random.randint(\n",
    "                 self.size-1, self.size-0, size=2\n",
    "            ) \n",
    "        self.enemy_location = np.array([0,0])\n",
    "        \n",
    "        #print(self.obstacles)\n",
    "        self.row1 = True\n",
    "        self.row2 = False\n",
    "        self.row3 = False\n",
    "        self.row4 = False\n",
    "        self.row5 = False\n",
    "        self.row6 = False\n",
    "        self.row7 = False\n",
    "        self.row8 = False\n",
    "        self.row9 = False\n",
    "\n",
    "        self._target_location = np.array([5,5])\n",
    "\n",
    "        if self.render_mode == self.human:\n",
    "            self._render_frame()\n",
    "        \n",
    "        self.observation = self._get_Agent()\n",
    "        \n",
    "        self.info = {}\n",
    "        return self.observation\n",
    "\n",
    "    def step(self, action):\n",
    "        actionenemy = self.action_space_enemy.sample()\n",
    "        self.reward_gain = 1\n",
    "        self.reward_loss = 0.001\n",
    "        self.steps += 1\n",
    "        direction = self._action_to_direction[action]\n",
    "        directionenemy = self._action_to_direction_enemy[actionenemy]\n",
    "        newenemydirection = self.enemy_location + directionenemy\n",
    "        newdirection = self._agent_location + direction\n",
    "\n",
    "        if(newdirection == self.obstacles).all(axis=1).any():\n",
    "            self._agent_location = self._agent_location\n",
    "        else:\n",
    "            self._agent_location = np.clip(\n",
    "            self._agent_location + direction, 0, self.size - 1, \n",
    "            )\n",
    "    \n",
    "        if(newenemydirection == self.obstacles).all(axis=1).any():\n",
    "            self.enemy_location = self.enemy_location -directionenemy\n",
    "\n",
    "        self.enemy_location = np.clip(\n",
    "            self.enemy_location + directionenemy, 0, self.size - 1, \n",
    "        )\n",
    "\n",
    "        \n",
    "        if(self.row1 == True and np.array_equal([10,9], self._agent_location)):\n",
    "            self.row1 = False\n",
    "            self.row2 = True\n",
    "            self.reward += 0.5\n",
    "        if(self.row2 == True and np.array_equal([10,8], self._agent_location)):\n",
    "            self.row2 = False\n",
    "            self.row3 = True\n",
    "            self.reward += 0.5\n",
    "        if(self.row3 == True and np.array_equal([10,7], self._agent_location)):\n",
    "            self.row3 = False\n",
    "            self.row4 = True\n",
    "            self.reward += 0.5\n",
    "        if(self.row4 == True and np.array_equal([10,6], self._agent_location)):\n",
    "            self.row4 = False\n",
    "            self.row5 = True\n",
    "            self.reward += 0.5\n",
    "        if(self.row5 == True and np.array_equal([10,5], self._agent_location)):\n",
    "            self.row5 = False\n",
    "            self.row6 = True\n",
    "            self.reward += 0.5\n",
    "        if(self.row6 == True and np.array_equal([10,4], self._agent_location)):\n",
    "            self.row6 = False\n",
    "            self.row7 = True\n",
    "            self.reward += 0.5\n",
    "        if(self.row7 == True and np.array_equal([9,4], self._agent_location)):\n",
    "            self.row7 = False\n",
    "            self.row8 = True\n",
    "            self.reward += 0.5\n",
    "        if(self.row8 == True and np.array_equal([8,4], self._agent_location)):\n",
    "            self.row8 = False\n",
    "            self.row9 = True\n",
    "            self.reward += 0.5\n",
    "        if(self.row9 == True and np.array_equal([7,4], self._agent_location)):\n",
    "            self.row9 = False\n",
    "            self.reward += 0.5\n",
    "\n",
    "        self.terminated = np.array_equal(self._agent_location, self._target_location)\n",
    "        self.reward += self.reward_gain if self.terminated else - self.reward_loss  \n",
    "\n",
    "        if self.render_mode == self.human:\n",
    "            self._render_frame()\n",
    "        self.observation = self._get_Agent()\n",
    "        self.info = {}\n",
    "        return (self.observation, self.reward,self.terminated, self.info)\n",
    "\n",
    "    def render(self):\n",
    "        if self.render_mode == self.rgb:\n",
    "            return self._render_frame()\n",
    "\n",
    "    def _render_frame(self):\n",
    "        if self.window is None and self.render_mode == self.human:\n",
    "            pygame.init()\n",
    "            pygame.display.init()\n",
    "            self.window = pygame.display.set_mode((self.window_size, self.window_size))\n",
    "        if self.clock is None and self.render_mode == self.human:\n",
    "            self.clock = pygame.time.Clock()\n",
    "\n",
    "        canvas = pygame.Surface((self.window_size, self.window_size))\n",
    "        canvas.fill((255, 255, 255))\n",
    "        pix_square_size = (\n",
    "            self.window_size / self.size\n",
    "        )  # The size of a single grid square in pixels\n",
    "\n",
    "        # First we draw the target\n",
    "        pygame.draw.rect(\n",
    "            canvas,\n",
    "            (255, 0, 0),\n",
    "            pygame.Rect(\n",
    "                pix_square_size * self._target_location,\n",
    "                (pix_square_size, pix_square_size),\n",
    "            ),\n",
    "        )\n",
    "        pygame.draw.rect(\n",
    "            canvas,\n",
    "            (0, 0, 0),\n",
    "            pygame.Rect(\n",
    "                pix_square_size * self._obstacle_location1,\n",
    "                (pix_square_size, pix_square_size),\n",
    "            ),\n",
    "        )\n",
    "        pygame.draw.rect(\n",
    "            canvas,\n",
    "            (0, 0, 0),\n",
    "            pygame.Rect(\n",
    "                pix_square_size * self._obstacle_location2,\n",
    "                (pix_square_size, pix_square_size),\n",
    "            ),\n",
    "        )\n",
    "        pygame.draw.rect(\n",
    "            canvas,\n",
    "            (0, 0, 0),\n",
    "            pygame.Rect(\n",
    "                pix_square_size * self._obstacle_location3,\n",
    "                (pix_square_size, pix_square_size),\n",
    "            ),\n",
    "        )\n",
    "        pygame.draw.rect(\n",
    "            canvas,\n",
    "            (0, 0, 0),\n",
    "            pygame.Rect(\n",
    "                pix_square_size * self._obstacle_location4,\n",
    "                (pix_square_size, pix_square_size),\n",
    "            ),\n",
    "        )\n",
    "        pygame.draw.rect(\n",
    "            canvas,\n",
    "            (0, 0, 0),\n",
    "            pygame.Rect(\n",
    "                pix_square_size * self._obstacle_location5,\n",
    "                (pix_square_size, pix_square_size),\n",
    "            ),\n",
    "        )\n",
    "        pygame.draw.rect(\n",
    "            canvas,\n",
    "            (0, 0, 0),\n",
    "            pygame.Rect(\n",
    "                pix_square_size * self._obstacle_location6,\n",
    "                (pix_square_size, pix_square_size),\n",
    "            ),\n",
    "        )\n",
    "        pygame.draw.rect(\n",
    "            canvas,\n",
    "            (0, 0, 0),\n",
    "            pygame.Rect(\n",
    "                pix_square_size * self._obstacle_location7,\n",
    "                (pix_square_size, pix_square_size),\n",
    "            ),\n",
    "        )\n",
    "        pygame.draw.rect(\n",
    "            canvas,\n",
    "            (0, 0, 0),\n",
    "            pygame.Rect(\n",
    "                pix_square_size * self._obstacle_location8,\n",
    "                (pix_square_size, pix_square_size),\n",
    "            ),\n",
    "        )\n",
    "        pygame.draw.rect(\n",
    "            canvas,\n",
    "            (0, 0, 0),\n",
    "            pygame.Rect(\n",
    "                pix_square_size * self._obstacle_location9,\n",
    "                (pix_square_size, pix_square_size),\n",
    "            ),\n",
    "        )\n",
    "        pygame.draw.rect(\n",
    "            canvas,\n",
    "            (0, 0, 0),\n",
    "            pygame.Rect(\n",
    "                pix_square_size * self._obstacle_location10,\n",
    "                (pix_square_size, pix_square_size),\n",
    "            ),\n",
    "        )\n",
    "        # Now we draw the agent\n",
    "        pygame.draw.circle(\n",
    "            canvas,\n",
    "            (0, 0, 255),\n",
    "            (self._agent_location + 0.5) * pix_square_size,\n",
    "            pix_square_size / 3,\n",
    "        )\n",
    "        pygame.draw.circle(\n",
    "            canvas,\n",
    "            (0, 255, 0),\n",
    "            (self.enemy_location + 0.5) * pix_square_size,\n",
    "            pix_square_size / 3,\n",
    "        )\n",
    "        \n",
    "        \n",
    "       \n",
    "        # Finally, add some gridlines\n",
    "        for x in range(self.size + 1):\n",
    "            pygame.draw.line(\n",
    "                canvas,\n",
    "                0,\n",
    "                (0, pix_square_size * x),\n",
    "                (self.window_size, pix_square_size * x),\n",
    "                width=2,\n",
    "            )\n",
    "            pygame.draw.line(\n",
    "                canvas,\n",
    "                0,\n",
    "                (pix_square_size * x, 0),\n",
    "                (pix_square_size * x, self.window_size),\n",
    "                width=2,\n",
    "            )\n",
    "\n",
    "        if self.render_mode == self.human:\n",
    "            # The following line copies our drawings from `canvas` to the visible window\n",
    "            self.window.blit(canvas, canvas.get_rect())\n",
    "            pygame.event.pump()\n",
    "            pygame.display.update()\n",
    "\n",
    "            # We need to ensure that human-rendering occurs at the predefined framerate.\n",
    "            # The following line will automatically add a delay to keep the framerate stable.\n",
    "            self.clock.tick(self.metadata[\"render_fps\"])\n",
    "        else:  # rgb_array\n",
    "            return np.transpose(\n",
    "                np.array(pygame.surfarray.pixels3d(canvas)), axes=(1, 0, 2)\n",
    "            )\n",
    "\n",
    "    def close(self):\n",
    "        if self.window is not None:\n",
    "            pygame.display.quit()\n",
    "            pygame.quit()\n"
   ]
  },
  {
   "cell_type": "code",
   "execution_count": 3,
   "metadata": {},
   "outputs": [
    {
     "name": "stdout",
     "output_type": "stream",
     "text": [
      "Box([0 0], [10 10], (2,), int32)\n"
     ]
    }
   ],
   "source": [
    "env = Game()\n"
   ]
  },
  {
   "cell_type": "code",
   "execution_count": 4,
   "metadata": {},
   "outputs": [
    {
     "data": {
      "text/plain": [
       "array([4, 2])"
      ]
     },
     "execution_count": 4,
     "metadata": {},
     "output_type": "execute_result"
    }
   ],
   "source": [
    "env.observation_space.sample()"
   ]
  },
  {
   "cell_type": "code",
   "execution_count": 5,
   "metadata": {},
   "outputs": [
    {
     "name": "stdout",
     "output_type": "stream",
     "text": [
      "Box([0 0], [10 10], (2,), int32)\n"
     ]
    }
   ],
   "source": [
    "human = 'human'\n",
    "rgb = 'rgb_array'\n",
    "env = Game(render_mode=rgb)"
   ]
  },
  {
   "cell_type": "code",
   "execution_count": 6,
   "metadata": {},
   "outputs": [
    {
     "name": "stdout",
     "output_type": "stream",
     "text": [
      "Episode:1 Score:1.4289999999999998 steps:72 \n",
      "Episode:2 Score:4.162000000000036 steps:339 \n",
      "Episode:3 Score:2.7170000000000276 steps:284 \n",
      "Episode:4 Score:1.916 steps:85 \n",
      "Episode:5 Score:1.2929999999999997 steps:208 \n",
      "Episode:6 Score:3.3530000000000113 steps:148 \n",
      "Episode:7 Score:4.366000000000007 steps:135 \n",
      "Episode:8 Score:4.430000000000007 steps:71 \n",
      "Episode:9 Score:4.633000000000079 steps:868 \n",
      "Episode:10 Score:4.872000000000011 steps:129 \n",
      "Episode:11 Score:3.4580000000000033 steps:43 \n",
      "Episode:12 Score:0.042999999999999594 steps:457 \n",
      "Episode:13 Score:5.2739999999999805 steps:227 \n",
      "Episode:14 Score:2.248000000000024 steps:253 \n",
      "Episode:15 Score:1.894 steps:107 \n",
      "Episode:16 Score:4.302000000000021 steps:199 \n",
      "Episode:17 Score:4.34100000000001 steps:160 \n",
      "Episode:18 Score:5.315999999999973 steps:185 \n",
      "Episode:19 Score:0.5059999999999996 steps:495 \n",
      "Episode:20 Score:4.272999999999986 steps:227 \n"
     ]
    }
   ],
   "source": [
    "env.reset()\n",
    "episodes = 20\n",
    "score = 0\n",
    "\n",
    "for episode in range(1, episodes+1):\n",
    "    steps = 0\n",
    "    done = False\n",
    "    observation = env.reset()\n",
    "    score = 0 \n",
    "    while not done:\n",
    "        action = env.action_space.sample()\n",
    "        observation, reward, terminated, info = env.step(action)\n",
    "        env.render()\n",
    "        steps +=1\n",
    "        if(np.array_equal(env._agent_location, env._target_location)):\n",
    "            score += env.reward\n",
    "            done = True\n",
    "        elif(np.array_equal(env._agent_location, env.enemy_location)):\n",
    "            score += env.reward\n",
    "            reward +=1\n",
    "            done = True\n",
    " \n",
    "    print('Episode:{} Score:{}'.format(episode,score), \"steps:{} \".format(steps))\n",
    "env.close()"
   ]
  },
  {
   "cell_type": "code",
   "execution_count": 7,
   "metadata": {},
   "outputs": [],
   "source": [
    "states = env.observation_space.shape\n",
    "actions = env.action_space.n"
   ]
  },
  {
   "cell_type": "code",
   "execution_count": 8,
   "metadata": {},
   "outputs": [
    {
     "name": "stdout",
     "output_type": "stream",
     "text": [
      "4\n",
      "(2,)\n"
     ]
    }
   ],
   "source": [
    "print(actions)\n",
    "print(states)"
   ]
  },
  {
   "cell_type": "code",
   "execution_count": 9,
   "metadata": {},
   "outputs": [],
   "source": [
    "def build_model(states, actions):\n",
    "    model = Sequential()  \n",
    "    model.add(layers.Dense(24, activation='relu', input_shape=(1,2)))\n",
    "    model.add(layers.Flatten()) \n",
    "    model.add(layers.Dense(24, activation='relu'))\n",
    "    model.add(layers.Dense(actions, activation='linear'))\n",
    "    \n",
    "    return model"
   ]
  },
  {
   "cell_type": "code",
   "execution_count": 10,
   "metadata": {},
   "outputs": [],
   "source": [
    "#del model "
   ]
  },
  {
   "cell_type": "code",
   "execution_count": 11,
   "metadata": {},
   "outputs": [
    {
     "name": "stdout",
     "output_type": "stream",
     "text": [
      "(None, 4)\n"
     ]
    }
   ],
   "source": [
    "model = build_model(states, actions)\n",
    "print(model.output_shape)"
   ]
  },
  {
   "cell_type": "code",
   "execution_count": 12,
   "metadata": {},
   "outputs": [
    {
     "name": "stdout",
     "output_type": "stream",
     "text": [
      "Model: \"sequential\"\n",
      "_________________________________________________________________\n",
      " Layer (type)                Output Shape              Param #   \n",
      "=================================================================\n",
      " dense (Dense)               (None, 1, 24)             72        \n",
      "                                                                 \n",
      " flatten (Flatten)           (None, 24)                0         \n",
      "                                                                 \n",
      " dense_1 (Dense)             (None, 24)                600       \n",
      "                                                                 \n",
      " dense_2 (Dense)             (None, 4)                 100       \n",
      "                                                                 \n",
      "=================================================================\n",
      "Total params: 772\n",
      "Trainable params: 772\n",
      "Non-trainable params: 0\n",
      "_________________________________________________________________\n"
     ]
    }
   ],
   "source": [
    "model.summary()"
   ]
  },
  {
   "cell_type": "code",
   "execution_count": 13,
   "metadata": {},
   "outputs": [],
   "source": [
    "def build_agent(model, actions):\n",
    "    policy = BoltzmannQPolicy()\n",
    "    memory = SequentialMemory(limit=100000, window_length=1)\n",
    "    dqn = DQNAgent(model=model, memory=memory, policy=policy, \n",
    "                  nb_actions=(actions), nb_steps_warmup=100, target_model_update=1e-2)\n",
    "    return dqn"
   ]
  },
  {
   "cell_type": "code",
   "execution_count": 14,
   "metadata": {},
   "outputs": [
    {
     "name": "stdout",
     "output_type": "stream",
     "text": [
      "Training for 100000 steps ...\n",
      "Interval 1 (0 steps performed)\n",
      "   82/10000 [..............................] - ETA: 12s - reward: 0.2390     "
     ]
    },
    {
     "name": "stderr",
     "output_type": "stream",
     "text": [
      "C:\\Users\\Sebas\\AppData\\Local\\Packages\\PythonSoftwareFoundation.Python.3.10_qbz5n2kfra8p0\\LocalCache\\local-packages\\Python310\\site-packages\\keras\\engine\\training_v1.py:2356: UserWarning: `Model.state_updates` will be removed in a future version. This property should not be used in TensorFlow 2.0, as `updates` are applied automatically.\n",
      "  updates=self.state_updates,\n"
     ]
    },
    {
     "name": "stdout",
     "output_type": "stream",
     "text": [
      "10000/10000 [==============================] - 50s 5ms/step - reward: -0.5740\n",
      "Interval 2 (10000 steps performed)\n",
      "10000/10000 [==============================] - 50s 5ms/step - reward: -0.6131\n",
      "1 episodes - episode_reward: -10270.834 [-10270.834, -10270.834] - loss: 5.111 - mae: 67.441 - mean_q: 90.662\n",
      "\n",
      "Interval 3 (20000 steps performed)\n",
      "10000/10000 [==============================] - 54s 5ms/step - reward: -4.9150\n",
      "6 episodes - episode_reward: -8781.845 [-56357.119, 1422.665] - loss: 7.250 - mae: 30.466 - mean_q: 16.783\n",
      "\n",
      "Interval 4 (30000 steps performed)\n",
      "10000/10000 [==============================] - 56s 6ms/step - reward: -1.6085\n",
      "Interval 5 (40000 steps performed)\n",
      "10000/10000 [==============================] - 55s 5ms/step - reward: -1.6361\n",
      "2 episodes - episode_reward: -15206.401 [-33070.174, 2657.371] - loss: 8.657 - mae: 37.978 - mean_q: -48.309\n",
      "\n",
      "Interval 6 (50000 steps performed)\n",
      "10000/10000 [==============================] - 56s 6ms/step - reward: -3.6201\n",
      "13 episodes - episode_reward: -2731.189 [-39250.434, 1165.206] - loss: 9.407 - mae: 67.635 - mean_q: -87.936\n",
      "\n",
      "Interval 7 (60000 steps performed)\n",
      "10000/10000 [==============================] - 58s 6ms/step - reward: -2.0188\n",
      "15 episodes - episode_reward: -1399.363 [-29987.639, 4698.936] - loss: 10.068 - mae: 38.269 - mean_q: -43.587\n",
      "\n",
      "Interval 8 (70000 steps performed)\n",
      "10000/10000 [==============================] - 61s 6ms/step - reward: 1.6285\n",
      "125 episodes - episode_reward: 107.560 [0.473, 2253.926] - loss: 8.947 - mae: 13.354 - mean_q: -1.418\n",
      "\n",
      "Interval 9 (80000 steps performed)\n",
      "10000/10000 [==============================] - 62s 6ms/step - reward: -4.5887\n",
      "1 episodes - episode_reward: -43109.979 [-43109.979, -43109.979] - loss: 8.152 - mae: 20.014 - mean_q: 27.132\n",
      "\n",
      "Interval 10 (90000 steps performed)\n",
      "10000/10000 [==============================] - 62s 6ms/step - reward: -1.1303\n",
      "done, took 564.062 seconds\n",
      "dict_keys(['episode_reward', 'nb_episode_steps', 'nb_steps'])\n"
     ]
    }
   ],
   "source": [
    "dqn = build_agent(model, actions)\n",
    "dqn.compile(Adam(learning_rate=10e-3), metrics=['mae'])\n",
    "history = dqn.fit(env, nb_steps=100000, visualize=False, verbose=1)\n",
    "print(history.history.keys())\n"
   ]
  },
  {
   "cell_type": "code",
   "execution_count": 15,
   "metadata": {},
   "outputs": [
    {
     "data": {
      "image/png": "[encoded data removed]",
      "text/plain": [
       "<Figure size 640x480 with 1 Axes>"
      ]
     },
     "metadata": {},
     "output_type": "display_data"
    }
   ],
   "source": [
    "\n",
    "plt.plot(history.history['nb_steps'],history.history['episode_reward'])\n",
    "#plt.plot(history.history['nb_episode_steps'])\n",
    "plt.title('model accuracy')\n",
    "plt.ylabel('episode_reward')\n",
    "plt.xlabel('step')\n",
    "plt.legend(['steps', 'steps'], loc='upper left')\n",
    "plt.show()\n"
   ]
  },
  {
   "cell_type": "code",
   "execution_count": 16,
   "metadata": {},
   "outputs": [
    {
     "name": "stdout",
     "output_type": "stream",
     "text": [
      "Testing for 10 episodes ...\n"
     ]
    },
    {
     "ename": "KeyboardInterrupt",
     "evalue": "",
     "output_type": "error",
     "traceback": [
      "\u001b[1;31m---------------------------------------------------------------------------\u001b[0m",
      "\u001b[1;31mKeyboardInterrupt\u001b[0m                         Traceback (most recent call last)",
      "Cell \u001b[1;32mIn [16], line 1\u001b[0m\n\u001b[1;32m----> 1\u001b[0m scores \u001b[39m=\u001b[39m dqn\u001b[39m.\u001b[39mtest(env, nb_episodes\u001b[39m=\u001b[39m\u001b[39m10\u001b[39m, visualize\u001b[39m=\u001b[39m\u001b[39mFalse\u001b[39;00m)\n\u001b[0;32m      2\u001b[0m \u001b[39mprint\u001b[39m(np\u001b[39m.\u001b[39mmean(scores\u001b[39m.\u001b[39mhistory[\u001b[39m'\u001b[39m\u001b[39mepisode_reward\u001b[39m\u001b[39m'\u001b[39m]))\n",
      "File \u001b[1;32m~\\AppData\\Local\\Packages\\PythonSoftwareFoundation.Python.3.10_qbz5n2kfra8p0\\LocalCache\\local-packages\\Python310\\site-packages\\rl\\core.py:341\u001b[0m, in \u001b[0;36mAgent.test\u001b[1;34m(self, env, nb_episodes, action_repetition, callbacks, visualize, nb_max_episode_steps, nb_max_start_steps, start_step_policy, verbose)\u001b[0m\n\u001b[0;32m    338\u001b[0m \u001b[39mwhile\u001b[39;00m \u001b[39mnot\u001b[39;00m done:\n\u001b[0;32m    339\u001b[0m     callbacks\u001b[39m.\u001b[39mon_step_begin(episode_step)\n\u001b[1;32m--> 341\u001b[0m     action \u001b[39m=\u001b[39m \u001b[39mself\u001b[39;49m\u001b[39m.\u001b[39;49mforward(observation)\n\u001b[0;32m    342\u001b[0m     \u001b[39mif\u001b[39;00m \u001b[39mself\u001b[39m\u001b[39m.\u001b[39mprocessor \u001b[39mis\u001b[39;00m \u001b[39mnot\u001b[39;00m \u001b[39mNone\u001b[39;00m:\n\u001b[0;32m    343\u001b[0m         action \u001b[39m=\u001b[39m \u001b[39mself\u001b[39m\u001b[39m.\u001b[39mprocessor\u001b[39m.\u001b[39mprocess_action(action)\n",
      "File \u001b[1;32m~\\AppData\\Local\\Packages\\PythonSoftwareFoundation.Python.3.10_qbz5n2kfra8p0\\LocalCache\\local-packages\\Python310\\site-packages\\rl\\agents\\dqn.py:224\u001b[0m, in \u001b[0;36mDQNAgent.forward\u001b[1;34m(self, observation)\u001b[0m\n\u001b[0;32m    221\u001b[0m \u001b[39mdef\u001b[39;00m \u001b[39mforward\u001b[39m(\u001b[39mself\u001b[39m, observation):\n\u001b[0;32m    222\u001b[0m     \u001b[39m# Select an action.\u001b[39;00m\n\u001b[0;32m    223\u001b[0m     state \u001b[39m=\u001b[39m \u001b[39mself\u001b[39m\u001b[39m.\u001b[39mmemory\u001b[39m.\u001b[39mget_recent_state(observation)\n\u001b[1;32m--> 224\u001b[0m     q_values \u001b[39m=\u001b[39m \u001b[39mself\u001b[39;49m\u001b[39m.\u001b[39;49mcompute_q_values(state)\n\u001b[0;32m    225\u001b[0m     \u001b[39mif\u001b[39;00m \u001b[39mself\u001b[39m\u001b[39m.\u001b[39mtraining:\n\u001b[0;32m    226\u001b[0m         action \u001b[39m=\u001b[39m \u001b[39mself\u001b[39m\u001b[39m.\u001b[39mpolicy\u001b[39m.\u001b[39mselect_action(q_values\u001b[39m=\u001b[39mq_values)\n",
      "File \u001b[1;32m~\\AppData\\Local\\Packages\\PythonSoftwareFoundation.Python.3.10_qbz5n2kfra8p0\\LocalCache\\local-packages\\Python310\\site-packages\\rl\\agents\\dqn.py:68\u001b[0m, in \u001b[0;36mAbstractDQNAgent.compute_q_values\u001b[1;34m(self, state)\u001b[0m\n\u001b[0;32m     67\u001b[0m \u001b[39mdef\u001b[39;00m \u001b[39mcompute_q_values\u001b[39m(\u001b[39mself\u001b[39m, state):\n\u001b[1;32m---> 68\u001b[0m     q_values \u001b[39m=\u001b[39m \u001b[39mself\u001b[39;49m\u001b[39m.\u001b[39;49mcompute_batch_q_values([state])\u001b[39m.\u001b[39mflatten()\n\u001b[0;32m     69\u001b[0m     \u001b[39massert\u001b[39;00m q_values\u001b[39m.\u001b[39mshape \u001b[39m==\u001b[39m (\u001b[39mself\u001b[39m\u001b[39m.\u001b[39mnb_actions,)\n\u001b[0;32m     70\u001b[0m     \u001b[39mreturn\u001b[39;00m q_values\n",
      "File \u001b[1;32m~\\AppData\\Local\\Packages\\PythonSoftwareFoundation.Python.3.10_qbz5n2kfra8p0\\LocalCache\\local-packages\\Python310\\site-packages\\rl\\agents\\dqn.py:63\u001b[0m, in \u001b[0;36mAbstractDQNAgent.compute_batch_q_values\u001b[1;34m(self, state_batch)\u001b[0m\n\u001b[0;32m     61\u001b[0m \u001b[39mdef\u001b[39;00m \u001b[39mcompute_batch_q_values\u001b[39m(\u001b[39mself\u001b[39m, state_batch):\n\u001b[0;32m     62\u001b[0m     batch \u001b[39m=\u001b[39m \u001b[39mself\u001b[39m\u001b[39m.\u001b[39mprocess_state_batch(state_batch)\n\u001b[1;32m---> 63\u001b[0m     q_values \u001b[39m=\u001b[39m \u001b[39mself\u001b[39;49m\u001b[39m.\u001b[39;49mmodel\u001b[39m.\u001b[39;49mpredict_on_batch(batch)\n\u001b[0;32m     64\u001b[0m     \u001b[39massert\u001b[39;00m q_values\u001b[39m.\u001b[39mshape \u001b[39m==\u001b[39m (\u001b[39mlen\u001b[39m(state_batch), \u001b[39mself\u001b[39m\u001b[39m.\u001b[39mnb_actions)\n\u001b[0;32m     65\u001b[0m     \u001b[39mreturn\u001b[39;00m q_values\n",
      "File \u001b[1;32m~\\AppData\\Local\\Packages\\PythonSoftwareFoundation.Python.3.10_qbz5n2kfra8p0\\LocalCache\\local-packages\\Python310\\site-packages\\keras\\engine\\training_v1.py:1320\u001b[0m, in \u001b[0;36mModel.predict_on_batch\u001b[1;34m(self, x)\u001b[0m\n\u001b[0;32m   1317\u001b[0m     \u001b[39mreturn\u001b[39;00m \u001b[39mself\u001b[39m(inputs)\n\u001b[0;32m   1319\u001b[0m \u001b[39mself\u001b[39m\u001b[39m.\u001b[39m_make_predict_function()\n\u001b[1;32m-> 1320\u001b[0m outputs \u001b[39m=\u001b[39m \u001b[39mself\u001b[39;49m\u001b[39m.\u001b[39;49mpredict_function(inputs)\n\u001b[0;32m   1322\u001b[0m \u001b[39mif\u001b[39;00m \u001b[39mlen\u001b[39m(outputs) \u001b[39m==\u001b[39m \u001b[39m1\u001b[39m:\n\u001b[0;32m   1323\u001b[0m     \u001b[39mreturn\u001b[39;00m outputs[\u001b[39m0\u001b[39m]\n",
      "File \u001b[1;32m~\\AppData\\Local\\Packages\\PythonSoftwareFoundation.Python.3.10_qbz5n2kfra8p0\\LocalCache\\local-packages\\Python310\\site-packages\\keras\\backend.py:4577\u001b[0m, in \u001b[0;36mGraphExecutionFunction.__call__\u001b[1;34m(self, inputs)\u001b[0m\n\u001b[0;32m   4567\u001b[0m \u001b[39mif\u001b[39;00m (\n\u001b[0;32m   4568\u001b[0m     \u001b[39mself\u001b[39m\u001b[39m.\u001b[39m_callable_fn \u001b[39mis\u001b[39;00m \u001b[39mNone\u001b[39;00m\n\u001b[0;32m   4569\u001b[0m     \u001b[39mor\u001b[39;00m feed_arrays \u001b[39m!=\u001b[39m \u001b[39mself\u001b[39m\u001b[39m.\u001b[39m_feed_arrays\n\u001b[1;32m   (...)\u001b[0m\n\u001b[0;32m   4573\u001b[0m     \u001b[39mor\u001b[39;00m session \u001b[39m!=\u001b[39m \u001b[39mself\u001b[39m\u001b[39m.\u001b[39m_session\n\u001b[0;32m   4574\u001b[0m ):\n\u001b[0;32m   4575\u001b[0m     \u001b[39mself\u001b[39m\u001b[39m.\u001b[39m_make_callable(feed_arrays, feed_symbols, symbol_vals, session)\n\u001b[1;32m-> 4577\u001b[0m fetched \u001b[39m=\u001b[39m \u001b[39mself\u001b[39;49m\u001b[39m.\u001b[39;49m_callable_fn(\u001b[39m*\u001b[39;49marray_vals, run_metadata\u001b[39m=\u001b[39;49m\u001b[39mself\u001b[39;49m\u001b[39m.\u001b[39;49mrun_metadata)\n\u001b[0;32m   4578\u001b[0m \u001b[39mself\u001b[39m\u001b[39m.\u001b[39m_call_fetch_callbacks(fetched[\u001b[39m-\u001b[39m\u001b[39mlen\u001b[39m(\u001b[39mself\u001b[39m\u001b[39m.\u001b[39m_fetches) :])\n\u001b[0;32m   4579\u001b[0m output_structure \u001b[39m=\u001b[39m tf\u001b[39m.\u001b[39mnest\u001b[39m.\u001b[39mpack_sequence_as(\n\u001b[0;32m   4580\u001b[0m     \u001b[39mself\u001b[39m\u001b[39m.\u001b[39m_outputs_structure,\n\u001b[0;32m   4581\u001b[0m     fetched[: \u001b[39mlen\u001b[39m(\u001b[39mself\u001b[39m\u001b[39m.\u001b[39moutputs)],\n\u001b[0;32m   4582\u001b[0m     expand_composites\u001b[39m=\u001b[39m\u001b[39mTrue\u001b[39;00m,\n\u001b[0;32m   4583\u001b[0m )\n",
      "File \u001b[1;32m~\\AppData\\Local\\Packages\\PythonSoftwareFoundation.Python.3.10_qbz5n2kfra8p0\\LocalCache\\local-packages\\Python310\\site-packages\\tensorflow\\python\\client\\session.py:1481\u001b[0m, in \u001b[0;36mBaseSession._Callable.__call__\u001b[1;34m(self, *args, **kwargs)\u001b[0m\n\u001b[0;32m   1479\u001b[0m \u001b[39mtry\u001b[39;00m:\n\u001b[0;32m   1480\u001b[0m   run_metadata_ptr \u001b[39m=\u001b[39m tf_session\u001b[39m.\u001b[39mTF_NewBuffer() \u001b[39mif\u001b[39;00m run_metadata \u001b[39melse\u001b[39;00m \u001b[39mNone\u001b[39;00m\n\u001b[1;32m-> 1481\u001b[0m   ret \u001b[39m=\u001b[39m tf_session\u001b[39m.\u001b[39;49mTF_SessionRunCallable(\u001b[39mself\u001b[39;49m\u001b[39m.\u001b[39;49m_session\u001b[39m.\u001b[39;49m_session,\n\u001b[0;32m   1482\u001b[0m                                          \u001b[39mself\u001b[39;49m\u001b[39m.\u001b[39;49m_handle, args,\n\u001b[0;32m   1483\u001b[0m                                          run_metadata_ptr)\n\u001b[0;32m   1484\u001b[0m   \u001b[39mif\u001b[39;00m run_metadata:\n\u001b[0;32m   1485\u001b[0m     proto_data \u001b[39m=\u001b[39m tf_session\u001b[39m.\u001b[39mTF_GetBuffer(run_metadata_ptr)\n",
      "\u001b[1;31mKeyboardInterrupt\u001b[0m: "
     ]
    }
   ],
   "source": [
    "scores = dqn.test(env, nb_episodes=10, visualize=False)\n",
    "print(np.mean(scores.history['episode_reward']))"
   ]
  },
  {
   "cell_type": "code",
   "execution_count": null,
   "metadata": {},
   "outputs": [
    {
     "name": "stdout",
     "output_type": "stream",
     "text": [
      "Box([0 0], [10 10], (2,), int32)\n",
      "Episode:1 Score:0.991 steps:10 \n",
      "Episode:2 Score:0.991 steps:10 \n",
      "Episode:3 Score:0.991 steps:10 \n",
      "Episode:4 Score:0.991 steps:10 \n",
      "Episode:5 Score:0.991 steps:10 \n",
      "Episode:6 Score:0.991 steps:10 \n",
      "Episode:7 Score:0.991 steps:10 \n",
      "Episode:8 Score:0.991 steps:10 \n",
      "Episode:9 Score:0.991 steps:10 \n",
      "Episode:10 Score:0.991 steps:10 \n"
     ]
    }
   ],
   "source": [
    "env = Game(render_mode=human)\n",
    "env.reset()\n",
    "episodes = 10\n",
    "score = 0\n",
    "\n",
    "for episode in range(1, episodes+1):\n",
    "    steps = 0\n",
    "    done = False\n",
    "    env.reset()\n",
    "    score = 0 \n",
    "    while not done:\n",
    "        #action = env.action_space.sample()\n",
    "        action = dqn.forward(observation)\n",
    "        \n",
    "        #actionenemy = env.action_space_enemy.sample()\n",
    "        observation, reward, terminated, info = env.step(action)\n",
    "        #print(reward)\n",
    "        env.render()\n",
    "        steps +=1\n",
    "        if(np.array_equal(env._agent_location, env._target_location)):\n",
    "            score += env.reward\n",
    "            done = True\n",
    "        elif(np.array_equal(env._agent_location, env.enemy_location)):\n",
    "            score += env.reward\n",
    "            done = True\n",
    "            \n",
    "    print('Episode:{} Score:{}'.format(episode,score), \"steps:{} \".format(steps))\n",
    "env.close()"
   ]
  }
 ],
 "metadata": {
  "kernelspec": {
   "display_name": "Python 3.10.8 64-bit (microsoft store)",
   "language": "python",
   "name": "python3"
  },
  "language_info": {
   "codemirror_mode": {
    "name": "ipython",
    "version": 3
   },
   "file_extension": ".py",
   "mimetype": "text/x-python",
   "name": "python",
   "nbconvert_exporter": "python",
   "pygments_lexer": "ipython3",
   "version": "3.10.10"
  },
  "orig_nbformat": 4,
  "vscode": {
   "interpreter": {
    "hash": "851391c1fb3ab3d4ed73bf12ec5547297a7e91120229734f9607c1e545c47f51"
   }
  }
 },
 "nbformat": 4,
 "nbformat_minor": 2
}
